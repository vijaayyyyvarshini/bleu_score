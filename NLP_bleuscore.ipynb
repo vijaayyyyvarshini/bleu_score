{
  "cells": [
    {
      "cell_type": "code",
      "execution_count": 6,
      "metadata": {
        "id": "jpkgG5kgZZup"
      },
      "outputs": [],
      "source": [
        "#import the libraries\n",
        "import pandas as pd\n",
        "import numpy as np\n",
        "import string\n",
        "from string import digits\n",
        "import matplotlib.pyplot as plt\n",
        "%matplotlib inline\n",
        "import re\n",
        "from sklearn.utils import shuffle\n",
        "from sklearn.model_selection import train_test_split\n",
        "from keras.layers import Input, LSTM, Embedding, Dense\n",
        "from keras.models import Model\n",
        "import os"
      ]
    },
    {
      "cell_type": "code",
      "execution_count": 7,
      "metadata": {
        "id": "uWdYVBy3eN5_"
      },
      "outputs": [],
      "source": [
        "#load the path of the file\n",
        "source_path=\"/content/train-source.txt\"\n",
        "target_path=\"/content/train-target.txt\""
      ]
    },
    {
      "cell_type": "code",
      "execution_count": 8,
      "metadata": {
        "id": "07YfyklasbdW"
      },
      "outputs": [],
      "source": [
        "#this function was taken from the first challenge (sentiment analysis)\n",
        "def data_preprocessing(file):\n",
        "  data_file= []\n",
        "  with open(file,'r',encoding='utf-8') as f:\n",
        "    data = f.read()\n",
        "    data = data.strip().split('</s>')\n",
        "    for i in data:\n",
        "      data = re.sub(\"\\n.\\n',\",'.',i)\n",
        "      data = re.sub('\\n<s>.','',data)\n",
        "      data = re.sub('\\n<s>','',data)\n",
        "      data = re.sub('\\n',' ',data)\n",
        "      data = re.sub('<s>','',data)\n",
        "      data_file.append(data)\n",
        "  return data_file"
      ]
    },
    {
      "cell_type": "code",
      "execution_count": 9,
      "metadata": {
        "id": "31PX7HhLsiL9"
      },
      "outputs": [],
      "source": [
        "source_file=data_preprocessing(source_path)\n",
        "target_file=data_preprocessing(target_path)"
      ]
    },
    {
      "cell_type": "code",
      "execution_count": 10,
      "metadata": {
        "id": "gfx33OUOVNN1"
      },
      "outputs": [],
      "source": [
        "df1=pd.DataFrame({'Source': source_file})"
      ]
    },
    {
      "cell_type": "code",
      "execution_count": 11,
      "metadata": {
        "id": "B8vhuftnfjDK"
      },
      "outputs": [],
      "source": [
        "df2 = pd.DataFrame({'Target': target_file})"
      ]
    },
    {
      "cell_type": "code",
      "execution_count": 12,
      "metadata": {
        "id": "BCZgnzK2exmR"
      },
      "outputs": [],
      "source": [
        "df_merged = pd.concat([df1, df2], axis=1)"
      ]
    },
    {
      "cell_type": "code",
      "execution_count": 13,
      "metadata": {
        "id": "bg-HMSH9R_di"
      },
      "outputs": [],
      "source": [
        "def cleaning(df):\n",
        "  exclude = set(string.punctuation)\n",
        "  df['Source']=df['Source'].apply(lambda x: x.lower())\n",
        "  df['Target']=df['Target'].apply(lambda x: x.lower())\n",
        "  df['Source']=df['Source'].apply(lambda x: re.sub(\"'\", '', x))\n",
        "  df['Target']=df['Target'].apply(lambda x: re.sub(\"'\", '', x))\n",
        "  df['Source']=df['Source'].apply(lambda x: ''.join(ch for ch in x if ch not in exclude))\n",
        "  df['Target']=df['Target'].apply(lambda x: ''.join(ch for ch in x if ch not in exclude))\n",
        "  return df"
      ]
    },
    {
      "cell_type": "code",
      "execution_count": 14,
      "metadata": {
        "colab": {
          "base_uri": "https://localhost:8080/",
          "height": 206
        },
        "id": "MlEJ4X9PSrre",
        "outputId": "840481f2-6785-44af-a887-fb2bde65dcea"
      },
      "outputs": [
        {
          "output_type": "execute_result",
          "data": {
            "text/plain": [
              "                                              Source  \\\n",
              "0   cinnte go leór  thiocfadh dóbhtha bás a fhagh...   \n",
              "1    bhí sé follasach go rabh an poll sin ag fosc...   \n",
              "2    dfhéadfadh siad bás  fhagháil ar a bhruach a...   \n",
              "3   thiocfadh dóbhtha fosta lámh a chur ina mbás ...   \n",
              "4    na dhiaidh sin  bhí rud éigin dochreidte agu...   \n",
              "\n",
              "                                              Target  \n",
              "0   cinnte go leor  thiocfadh dóibh bás a fháil a...  \n",
              "1   bhí sé follasach go raibh an poll sin ag fosc...  \n",
              "2   dfhéadfadh siad bás a fháil ar a bhruach agus...  \n",
              "3   thiocfadh dóibh fosta lámh a chur ina mbás fé...  \n",
              "4   ina dhiaidh sin bhí rud éigin dochreidte agus...  "
            ],
            "text/html": [
              "\n",
              "  <div id=\"df-064b6369-08b8-4d16-87d2-fb536e0c5824\">\n",
              "    <div class=\"colab-df-container\">\n",
              "      <div>\n",
              "<style scoped>\n",
              "    .dataframe tbody tr th:only-of-type {\n",
              "        vertical-align: middle;\n",
              "    }\n",
              "\n",
              "    .dataframe tbody tr th {\n",
              "        vertical-align: top;\n",
              "    }\n",
              "\n",
              "    .dataframe thead th {\n",
              "        text-align: right;\n",
              "    }\n",
              "</style>\n",
              "<table border=\"1\" class=\"dataframe\">\n",
              "  <thead>\n",
              "    <tr style=\"text-align: right;\">\n",
              "      <th></th>\n",
              "      <th>Source</th>\n",
              "      <th>Target</th>\n",
              "    </tr>\n",
              "  </thead>\n",
              "  <tbody>\n",
              "    <tr>\n",
              "      <th>0</th>\n",
              "      <td>cinnte go leór  thiocfadh dóbhtha bás a fhagh...</td>\n",
              "      <td>cinnte go leor  thiocfadh dóibh bás a fháil a...</td>\n",
              "    </tr>\n",
              "    <tr>\n",
              "      <th>1</th>\n",
              "      <td>bhí sé follasach go rabh an poll sin ag fosc...</td>\n",
              "      <td>bhí sé follasach go raibh an poll sin ag fosc...</td>\n",
              "    </tr>\n",
              "    <tr>\n",
              "      <th>2</th>\n",
              "      <td>dfhéadfadh siad bás  fhagháil ar a bhruach a...</td>\n",
              "      <td>dfhéadfadh siad bás a fháil ar a bhruach agus...</td>\n",
              "    </tr>\n",
              "    <tr>\n",
              "      <th>3</th>\n",
              "      <td>thiocfadh dóbhtha fosta lámh a chur ina mbás ...</td>\n",
              "      <td>thiocfadh dóibh fosta lámh a chur ina mbás fé...</td>\n",
              "    </tr>\n",
              "    <tr>\n",
              "      <th>4</th>\n",
              "      <td>na dhiaidh sin  bhí rud éigin dochreidte agu...</td>\n",
              "      <td>ina dhiaidh sin bhí rud éigin dochreidte agus...</td>\n",
              "    </tr>\n",
              "  </tbody>\n",
              "</table>\n",
              "</div>\n",
              "      <button class=\"colab-df-convert\" onclick=\"convertToInteractive('df-064b6369-08b8-4d16-87d2-fb536e0c5824')\"\n",
              "              title=\"Convert this dataframe to an interactive table.\"\n",
              "              style=\"display:none;\">\n",
              "        \n",
              "  <svg xmlns=\"http://www.w3.org/2000/svg\" height=\"24px\"viewBox=\"0 0 24 24\"\n",
              "       width=\"24px\">\n",
              "    <path d=\"M0 0h24v24H0V0z\" fill=\"none\"/>\n",
              "    <path d=\"M18.56 5.44l.94 2.06.94-2.06 2.06-.94-2.06-.94-.94-2.06-.94 2.06-2.06.94zm-11 1L8.5 8.5l.94-2.06 2.06-.94-2.06-.94L8.5 2.5l-.94 2.06-2.06.94zm10 10l.94 2.06.94-2.06 2.06-.94-2.06-.94-.94-2.06-.94 2.06-2.06.94z\"/><path d=\"M17.41 7.96l-1.37-1.37c-.4-.4-.92-.59-1.43-.59-.52 0-1.04.2-1.43.59L10.3 9.45l-7.72 7.72c-.78.78-.78 2.05 0 2.83L4 21.41c.39.39.9.59 1.41.59.51 0 1.02-.2 1.41-.59l7.78-7.78 2.81-2.81c.8-.78.8-2.07 0-2.86zM5.41 20L4 18.59l7.72-7.72 1.47 1.35L5.41 20z\"/>\n",
              "  </svg>\n",
              "      </button>\n",
              "      \n",
              "  <style>\n",
              "    .colab-df-container {\n",
              "      display:flex;\n",
              "      flex-wrap:wrap;\n",
              "      gap: 12px;\n",
              "    }\n",
              "\n",
              "    .colab-df-convert {\n",
              "      background-color: #E8F0FE;\n",
              "      border: none;\n",
              "      border-radius: 50%;\n",
              "      cursor: pointer;\n",
              "      display: none;\n",
              "      fill: #1967D2;\n",
              "      height: 32px;\n",
              "      padding: 0 0 0 0;\n",
              "      width: 32px;\n",
              "    }\n",
              "\n",
              "    .colab-df-convert:hover {\n",
              "      background-color: #E2EBFA;\n",
              "      box-shadow: 0px 1px 2px rgba(60, 64, 67, 0.3), 0px 1px 3px 1px rgba(60, 64, 67, 0.15);\n",
              "      fill: #174EA6;\n",
              "    }\n",
              "\n",
              "    [theme=dark] .colab-df-convert {\n",
              "      background-color: #3B4455;\n",
              "      fill: #D2E3FC;\n",
              "    }\n",
              "\n",
              "    [theme=dark] .colab-df-convert:hover {\n",
              "      background-color: #434B5C;\n",
              "      box-shadow: 0px 1px 3px 1px rgba(0, 0, 0, 0.15);\n",
              "      filter: drop-shadow(0px 1px 2px rgba(0, 0, 0, 0.3));\n",
              "      fill: #FFFFFF;\n",
              "    }\n",
              "  </style>\n",
              "\n",
              "      <script>\n",
              "        const buttonEl =\n",
              "          document.querySelector('#df-064b6369-08b8-4d16-87d2-fb536e0c5824 button.colab-df-convert');\n",
              "        buttonEl.style.display =\n",
              "          google.colab.kernel.accessAllowed ? 'block' : 'none';\n",
              "\n",
              "        async function convertToInteractive(key) {\n",
              "          const element = document.querySelector('#df-064b6369-08b8-4d16-87d2-fb536e0c5824');\n",
              "          const dataTable =\n",
              "            await google.colab.kernel.invokeFunction('convertToInteractive',\n",
              "                                                     [key], {});\n",
              "          if (!dataTable) return;\n",
              "\n",
              "          const docLinkHtml = 'Like what you see? Visit the ' +\n",
              "            '<a target=\"_blank\" href=https://colab.research.google.com/notebooks/data_table.ipynb>data table notebook</a>'\n",
              "            + ' to learn more about interactive tables.';\n",
              "          element.innerHTML = '';\n",
              "          dataTable['output_type'] = 'display_data';\n",
              "          await google.colab.output.renderOutput(dataTable, element);\n",
              "          const docLink = document.createElement('div');\n",
              "          docLink.innerHTML = docLinkHtml;\n",
              "          element.appendChild(docLink);\n",
              "        }\n",
              "      </script>\n",
              "    </div>\n",
              "  </div>\n",
              "  "
            ]
          },
          "metadata": {},
          "execution_count": 14
        }
      ],
      "source": [
        "cleaning(df_merged).head()"
      ]
    },
    {
      "cell_type": "code",
      "execution_count": 15,
      "metadata": {
        "colab": {
          "base_uri": "https://localhost:8080/"
        },
        "id": "K71ztuKHtlb4",
        "outputId": "9cc89eba-3e97-4bf7-c977-88b347f4b659"
      },
      "outputs": [
        {
          "output_type": "execute_result",
          "data": {
            "text/plain": [
              "Source    0\n",
              "Target    0\n",
              "dtype: int64"
            ]
          },
          "metadata": {},
          "execution_count": 15
        }
      ],
      "source": [
        "df_merged.isnull().sum()"
      ]
    },
    {
      "cell_type": "code",
      "execution_count": 16,
      "metadata": {
        "id": "a3hIW19MuNa5"
      },
      "outputs": [],
      "source": [
        "all_source_words=set()\n",
        "for i in df_merged['Source']:\n",
        "    for word in i.split():\n",
        "        if word not in all_source_words:\n",
        "            all_source_words.add(word)"
      ]
    },
    {
      "cell_type": "code",
      "execution_count": 17,
      "metadata": {
        "id": "6_dMvMMaubn3"
      },
      "outputs": [],
      "source": [
        "all_target_words=set()\n",
        "for j in df_merged['Target']:\n",
        "    for word in j.split():\n",
        "        if word not in all_target_words:\n",
        "            all_target_words.add(word)"
      ]
    },
    {
      "cell_type": "code",
      "execution_count": 18,
      "metadata": {
        "colab": {
          "base_uri": "https://localhost:8080/"
        },
        "id": "YYyPfwfmuhss",
        "outputId": "30b21295-1002-42b3-a8be-407ce49264fe"
      },
      "outputs": [
        {
          "output_type": "execute_result",
          "data": {
            "text/plain": [
              "29467"
            ]
          },
          "metadata": {},
          "execution_count": 18
        }
      ],
      "source": [
        "len(all_source_words)"
      ]
    },
    {
      "cell_type": "code",
      "execution_count": 19,
      "metadata": {
        "colab": {
          "base_uri": "https://localhost:8080/"
        },
        "id": "n4CUyiOjulAV",
        "outputId": "b6000314-ffc8-4076-c7f5-610b126a8a87"
      },
      "outputs": [
        {
          "output_type": "execute_result",
          "data": {
            "text/plain": [
              "25071"
            ]
          },
          "metadata": {},
          "execution_count": 19
        }
      ],
      "source": [
        "len(all_target_words)"
      ]
    },
    {
      "cell_type": "code",
      "execution_count": 20,
      "metadata": {
        "id": "EK3WJxBdQwrS"
      },
      "outputs": [],
      "source": [
        "df_merged['Length of Source']=df_merged['Source'].apply(lambda x:len(x.split(\" \")))\n",
        "df_merged['Length of Target']=df_merged['Target'].apply(lambda x:len(x.split(\" \")))"
      ]
    },
    {
      "cell_type": "code",
      "execution_count": 21,
      "metadata": {
        "id": "NgcLQwg4QWr7"
      },
      "outputs": [],
      "source": [
        "df_merged=df_merged[df_merged['Length of Source']<=30]\n",
        "df_merged=df_merged[df_merged['Length of Target']<=30]"
      ]
    },
    {
      "cell_type": "code",
      "execution_count": 22,
      "metadata": {
        "colab": {
          "base_uri": "https://localhost:8080/"
        },
        "id": "tCuS7AdjQPcE",
        "outputId": "032ec390-fb2a-4ed8-c9d3-7d51ce74ae99"
      },
      "outputs": [
        {
          "output_type": "stream",
          "name": "stdout",
          "text": [
            "maximum length of Source Sentence  30\n",
            "maximum length of Target Sentence  30\n"
          ]
        }
      ],
      "source": [
        "print(\"maximum length of Source Sentence \",max(df_merged['Length of Source']))\n",
        "print(\"maximum length of Target Sentence \",max(df_merged['Length of Target']))"
      ]
    },
    {
      "cell_type": "code",
      "execution_count": 23,
      "metadata": {
        "colab": {
          "base_uri": "https://localhost:8080/"
        },
        "id": "4ed_K0arSGUU",
        "outputId": "19c64129-42ca-41ca-f229-735a811317d6"
      },
      "outputs": [
        {
          "output_type": "execute_result",
          "data": {
            "text/plain": [
              "(38110, 4)"
            ]
          },
          "metadata": {},
          "execution_count": 23
        }
      ],
      "source": [
        "df_merged.shape"
      ]
    },
    {
      "cell_type": "code",
      "execution_count": 30,
      "metadata": {
        "id": "SfreOT_RI1Tf"
      },
      "outputs": [],
      "source": [
        "#this code was taken from https://www.analyticsvidhya.com/blog/2019/01/neural-machine-translation-keras/\n",
        "from keras.preprocessing.text import Tokenizer\n",
        "def tokenization(lines):\n",
        "  tokenizer = Tokenizer()\n",
        "  tokenizer.fit_on_texts(lines)\n",
        "  return tokenizer"
      ]
    },
    {
      "cell_type": "code",
      "execution_count": 106,
      "metadata": {
        "colab": {
          "base_uri": "https://localhost:8080/"
        },
        "id": "ZNUquRxjI17n",
        "outputId": "ebb69a00-3faf-438c-9f98-4bccee6421b3"
      },
      "outputs": [
        {
          "output_type": "execute_result",
          "data": {
            "text/plain": [
              "23673"
            ]
          },
          "metadata": {},
          "execution_count": 106
        }
      ],
      "source": [
        "source_tokenizer = tokenization(df_merged.Source)\n",
        "source_vocab_size = len(source_tokenizer.word_index) + 1\n",
        "source_vocab_size"
      ]
    },
    {
      "cell_type": "code",
      "execution_count": 32,
      "metadata": {
        "id": "A2uJvwYCJX5H"
      },
      "outputs": [],
      "source": [
        "source_max_length=25"
      ]
    },
    {
      "cell_type": "code",
      "execution_count": 33,
      "metadata": {
        "colab": {
          "base_uri": "https://localhost:8080/"
        },
        "id": "lKFKTz9xJKbT",
        "outputId": "dce1766f-92fa-4e17-fccf-e9212b8e8395"
      },
      "outputs": [
        {
          "output_type": "stream",
          "name": "stdout",
          "text": [
            "Target Vocabulary Size: 20487\n"
          ]
        }
      ],
      "source": [
        "target_tokenizer = tokenization(df_merged.Target)\n",
        "target_vocab_size = len(target_tokenizer.word_index) + 1\n",
        "target_max_length = 25\n",
        "print('Target Vocabulary Size: %d' % target_vocab_size)"
      ]
    },
    {
      "cell_type": "code",
      "execution_count": 34,
      "metadata": {
        "id": "gnmBE6XNIZNB"
      },
      "outputs": [],
      "source": [
        "from keras_preprocessing.sequence import pad_sequences\n",
        "def encode_sequences(tokenizer, length, lines):\n",
        "    # integer encode sequences\n",
        "    seq = tokenizer.texts_to_sequences(lines)\n",
        "    # pad sequences with 0 values\n",
        "    seq = pad_sequences(seq, maxlen=length, padding='post')\n",
        "    return seq"
      ]
    },
    {
      "cell_type": "code",
      "execution_count": 103,
      "metadata": {
        "id": "yE9jVHH6Ik_Y"
      },
      "outputs": [],
      "source": [
        "from sklearn.model_selection import train_test_split\n",
        "\n",
        "# split data into train and test set\n",
        "source_train, source_test = train_test_split(df_merged.Source, test_size=0.01, random_state = 42)\n",
        "target_train, target_test = train_test_split(df_merged.Target, test_size=0.01, random_state = 42)"
      ]
    },
    {
      "cell_type": "code",
      "execution_count": 105,
      "metadata": {
        "id": "rS0uV8p9IsRS"
      },
      "outputs": [],
      "source": [
        "# prepare training data\n",
        "trainX = encode_sequences(source_tokenizer, source_max_length, source_train)\n",
        "trainY = encode_sequences(target_tokenizer, target_max_length, target_train)"
      ]
    },
    {
      "cell_type": "code",
      "execution_count": 37,
      "metadata": {
        "id": "7b2WXD_OMiTt"
      },
      "outputs": [],
      "source": [
        "# prepare validation data\n",
        "testX = encode_sequences(encoder_tokens, source_max_length, source_test)\n",
        "testY = encode_sequences(target_tokenizer, target_max_length, target_test)"
      ]
    },
    {
      "cell_type": "code",
      "execution_count": 38,
      "metadata": {
        "id": "_alzWymBJaZ_"
      },
      "outputs": [],
      "source": [
        "from keras.models import Sequential\n",
        "from keras.layers import Dense, LSTM, Embedding, RepeatVector\n",
        "# build NMT model\n",
        "def define_model(in_vocab,out_vocab, in_timesteps,out_timesteps,units):\n",
        "    model = Sequential()\n",
        "    model.add(Embedding(in_vocab, units, input_length=in_timesteps, mask_zero=True))\n",
        "    model.add(LSTM(units))\n",
        "    model.add(RepeatVector(out_timesteps))\n",
        "    model.add(LSTM(units, return_sequences=True))\n",
        "    model.add(Dense(out_vocab, activation='softmax'))\n",
        "    return model"
      ]
    },
    {
      "cell_type": "code",
      "execution_count": 39,
      "metadata": {
        "id": "5rj4KxjqJcqa"
      },
      "outputs": [],
      "source": [
        "model = define_model(source_vocab_size, target_vocab_size, source_max_length, target_max_length, 128)"
      ]
    },
    {
      "cell_type": "code",
      "execution_count": 40,
      "metadata": {
        "colab": {
          "base_uri": "https://localhost:8080/"
        },
        "id": "8OMzMoGDJfQ2",
        "outputId": "e4af4cb5-7ee8-4d5f-c979-d2888a741055"
      },
      "outputs": [
        {
          "output_type": "stream",
          "name": "stderr",
          "text": [
            "/usr/local/lib/python3.7/dist-packages/keras/optimizers/optimizer_v2/rmsprop.py:135: UserWarning: The `lr` argument is deprecated, use `learning_rate` instead.\n",
            "  super(RMSprop, self).__init__(name, **kwargs)\n"
          ]
        }
      ],
      "source": [
        "from keras import optimizers\n",
        "rms = optimizers.RMSprop(lr=0.001)\n",
        "model.compile(optimizer=rms, loss='sparse_categorical_crossentropy')"
      ]
    },
    {
      "cell_type": "code",
      "execution_count": 41,
      "metadata": {
        "colab": {
          "base_uri": "https://localhost:8080/"
        },
        "id": "1-i0qmj1Jg8l",
        "outputId": "5a3cf28d-9868-4bd6-ea83-0cffb0949c86"
      },
      "outputs": [
        {
          "output_type": "stream",
          "name": "stdout",
          "text": [
            "1887/1887 [==============================] - 715s 375ms/step - loss: 3.5216 - val_loss: 3.3089\n"
          ]
        }
      ],
      "source": [
        "history = model.fit(trainX, trainY.reshape(trainY.shape[0], trainY.shape[1], 1),\n",
        "                    epochs=1, batch_size=16, validation_split = 0.2, \n",
        "                    verbose=1)"
      ]
    },
    {
      "cell_type": "code",
      "execution_count": 42,
      "metadata": {
        "colab": {
          "base_uri": "https://localhost:8080/"
        },
        "id": "B0e6mt8rNjm9",
        "outputId": "c35f530e-2ad8-4bf4-b06b-04e7f782f28e"
      },
      "outputs": [
        {
          "output_type": "stream",
          "name": "stdout",
          "text": [
            "12/12 [==============================] - 4s 207ms/step\n"
          ]
        }
      ],
      "source": [
        "predict_x=model.predict(testX.reshape((testX.shape[0],testX.shape[1])))\n",
        "classes_x=np.argmax(predict_x,axis=1)"
      ]
    },
    {
      "cell_type": "code",
      "execution_count": 43,
      "metadata": {
        "id": "HOagHUQeN66r"
      },
      "outputs": [],
      "source": [
        "def get_word(n, tokenizer):\n",
        "      for word, index in tokenizer.word_index.items():\n",
        "          if index == n:\n",
        "              return word\n",
        "      return None"
      ]
    },
    {
      "cell_type": "code",
      "execution_count": 44,
      "metadata": {
        "id": "9cnZGyekOMpk"
      },
      "outputs": [],
      "source": [
        "preds=np.argmax(predict_x,axis=1)"
      ]
    },
    {
      "cell_type": "code",
      "execution_count": 47,
      "metadata": {
        "id": "ysNMQ4GkOc6l"
      },
      "outputs": [],
      "source": [
        "preds_text = []\n",
        "for i in preds[:10]:\n",
        "       temp = []\n",
        "       for j in range(len(i)):\n",
        "            t = get_word(i[j], source_tokenizer)\n",
        "            if j > 0:\n",
        "                if (t == get_word(i[j-1], source_tokenizer)) or (t == None):\n",
        "                     temp.append('')\n",
        "                else:\n",
        "                     temp.append(t)\n",
        "            else:\n",
        "                   if(t == None):\n",
        "                          temp.append('')\n",
        "                   else:\n",
        "                          temp.append(t) \n",
        "\n",
        "       preds_text.append(' '.join(temp))"
      ]
    },
    {
      "cell_type": "code",
      "execution_count": 49,
      "metadata": {
        "id": "U3aX_HpQOz7y",
        "colab": {
          "base_uri": "https://localhost:8080/",
          "height": 363
        },
        "outputId": "588ad4d4-eced-4074-c4a9-677056e28f89"
      },
      "outputs": [
        {
          "output_type": "execute_result",
          "data": {
            "text/plain": [
              "                                                  actual  \\\n",
              "9195    mhallaigh sé an sliabh a bhí thart air agus a...   \n",
              "32334    nuair a bhí mise i mo bhrian óg  is iomaí be...   \n",
              "20172   bhí fear eile leis a chuir sé in aithne domh ...   \n",
              "3276                 pléiseam ort   arsa máire mhánais     \n",
              "32754   dimigh an séideán bradach nuair a bhí a chuid...   \n",
              "22544   bhí an athair thalún acu mar leigheas ar an d...   \n",
              "4174                                      rith  anois      \n",
              "9692    an ea nach raibh a dhath a dtiocfadh leis a d...   \n",
              "27486   chonacthas taibhse an pheata bháin ar chnoc m...   \n",
              "38375              dar fia  na saighdiúirí   arsa mise     \n",
              "\n",
              "                                              prediction  \n",
              "9195   acht a  ag agus  a na  arsa an  a   go an a an...  \n",
              "32334  acht a   na  a bhí  é bhí  a   “ a   é a rabh ...  \n",
              "20172  acht a   agus  a ar  a ar  a   ag an a  mé a s...  \n",
              "3276   le a   an  a  a  agus  a    a  agus  a  an    ...  \n",
              "32754  tá go a bhí agus  a agus an ag an  a   bhí an ...  \n",
              "22544  acht a   ar  a na  a na  a   mé a   “ a as ar ...  \n",
              "4174   arsa      a    a  a    a    a      a    a    a...  \n",
              "9692   tá go an bhí agus  a agus  ag agus  a   bhí an...  \n",
              "27486  sí sé a bhí sé  a na  go ag  a   sé a   go a a...  \n",
              "38375  “ a   agus  a an a  na  a    a    a  agus   a ...  "
            ],
            "text/html": [
              "\n",
              "  <div id=\"df-edc0a49f-87b8-4e49-b68c-740295e72a92\">\n",
              "    <div class=\"colab-df-container\">\n",
              "      <div>\n",
              "<style scoped>\n",
              "    .dataframe tbody tr th:only-of-type {\n",
              "        vertical-align: middle;\n",
              "    }\n",
              "\n",
              "    .dataframe tbody tr th {\n",
              "        vertical-align: top;\n",
              "    }\n",
              "\n",
              "    .dataframe thead th {\n",
              "        text-align: right;\n",
              "    }\n",
              "</style>\n",
              "<table border=\"1\" class=\"dataframe\">\n",
              "  <thead>\n",
              "    <tr style=\"text-align: right;\">\n",
              "      <th></th>\n",
              "      <th>actual</th>\n",
              "      <th>prediction</th>\n",
              "    </tr>\n",
              "  </thead>\n",
              "  <tbody>\n",
              "    <tr>\n",
              "      <th>9195</th>\n",
              "      <td>mhallaigh sé an sliabh a bhí thart air agus a...</td>\n",
              "      <td>acht a  ag agus  a na  arsa an  a   go an a an...</td>\n",
              "    </tr>\n",
              "    <tr>\n",
              "      <th>32334</th>\n",
              "      <td>nuair a bhí mise i mo bhrian óg  is iomaí be...</td>\n",
              "      <td>acht a   na  a bhí  é bhí  a   “ a   é a rabh ...</td>\n",
              "    </tr>\n",
              "    <tr>\n",
              "      <th>20172</th>\n",
              "      <td>bhí fear eile leis a chuir sé in aithne domh ...</td>\n",
              "      <td>acht a   agus  a ar  a ar  a   ag an a  mé a s...</td>\n",
              "    </tr>\n",
              "    <tr>\n",
              "      <th>3276</th>\n",
              "      <td>pléiseam ort   arsa máire mhánais</td>\n",
              "      <td>le a   an  a  a  agus  a    a  agus  a  an    ...</td>\n",
              "    </tr>\n",
              "    <tr>\n",
              "      <th>32754</th>\n",
              "      <td>dimigh an séideán bradach nuair a bhí a chuid...</td>\n",
              "      <td>tá go a bhí agus  a agus an ag an  a   bhí an ...</td>\n",
              "    </tr>\n",
              "    <tr>\n",
              "      <th>22544</th>\n",
              "      <td>bhí an athair thalún acu mar leigheas ar an d...</td>\n",
              "      <td>acht a   ar  a na  a na  a   mé a   “ a as ar ...</td>\n",
              "    </tr>\n",
              "    <tr>\n",
              "      <th>4174</th>\n",
              "      <td>rith  anois</td>\n",
              "      <td>arsa      a    a  a    a    a      a    a    a...</td>\n",
              "    </tr>\n",
              "    <tr>\n",
              "      <th>9692</th>\n",
              "      <td>an ea nach raibh a dhath a dtiocfadh leis a d...</td>\n",
              "      <td>tá go an bhí agus  a agus  ag agus  a   bhí an...</td>\n",
              "    </tr>\n",
              "    <tr>\n",
              "      <th>27486</th>\n",
              "      <td>chonacthas taibhse an pheata bháin ar chnoc m...</td>\n",
              "      <td>sí sé a bhí sé  a na  go ag  a   sé a   go a a...</td>\n",
              "    </tr>\n",
              "    <tr>\n",
              "      <th>38375</th>\n",
              "      <td>dar fia  na saighdiúirí   arsa mise</td>\n",
              "      <td>“ a   agus  a an a  na  a    a    a  agus   a ...</td>\n",
              "    </tr>\n",
              "  </tbody>\n",
              "</table>\n",
              "</div>\n",
              "      <button class=\"colab-df-convert\" onclick=\"convertToInteractive('df-edc0a49f-87b8-4e49-b68c-740295e72a92')\"\n",
              "              title=\"Convert this dataframe to an interactive table.\"\n",
              "              style=\"display:none;\">\n",
              "        \n",
              "  <svg xmlns=\"http://www.w3.org/2000/svg\" height=\"24px\"viewBox=\"0 0 24 24\"\n",
              "       width=\"24px\">\n",
              "    <path d=\"M0 0h24v24H0V0z\" fill=\"none\"/>\n",
              "    <path d=\"M18.56 5.44l.94 2.06.94-2.06 2.06-.94-2.06-.94-.94-2.06-.94 2.06-2.06.94zm-11 1L8.5 8.5l.94-2.06 2.06-.94-2.06-.94L8.5 2.5l-.94 2.06-2.06.94zm10 10l.94 2.06.94-2.06 2.06-.94-2.06-.94-.94-2.06-.94 2.06-2.06.94z\"/><path d=\"M17.41 7.96l-1.37-1.37c-.4-.4-.92-.59-1.43-.59-.52 0-1.04.2-1.43.59L10.3 9.45l-7.72 7.72c-.78.78-.78 2.05 0 2.83L4 21.41c.39.39.9.59 1.41.59.51 0 1.02-.2 1.41-.59l7.78-7.78 2.81-2.81c.8-.78.8-2.07 0-2.86zM5.41 20L4 18.59l7.72-7.72 1.47 1.35L5.41 20z\"/>\n",
              "  </svg>\n",
              "      </button>\n",
              "      \n",
              "  <style>\n",
              "    .colab-df-container {\n",
              "      display:flex;\n",
              "      flex-wrap:wrap;\n",
              "      gap: 12px;\n",
              "    }\n",
              "\n",
              "    .colab-df-convert {\n",
              "      background-color: #E8F0FE;\n",
              "      border: none;\n",
              "      border-radius: 50%;\n",
              "      cursor: pointer;\n",
              "      display: none;\n",
              "      fill: #1967D2;\n",
              "      height: 32px;\n",
              "      padding: 0 0 0 0;\n",
              "      width: 32px;\n",
              "    }\n",
              "\n",
              "    .colab-df-convert:hover {\n",
              "      background-color: #E2EBFA;\n",
              "      box-shadow: 0px 1px 2px rgba(60, 64, 67, 0.3), 0px 1px 3px 1px rgba(60, 64, 67, 0.15);\n",
              "      fill: #174EA6;\n",
              "    }\n",
              "\n",
              "    [theme=dark] .colab-df-convert {\n",
              "      background-color: #3B4455;\n",
              "      fill: #D2E3FC;\n",
              "    }\n",
              "\n",
              "    [theme=dark] .colab-df-convert:hover {\n",
              "      background-color: #434B5C;\n",
              "      box-shadow: 0px 1px 3px 1px rgba(0, 0, 0, 0.15);\n",
              "      filter: drop-shadow(0px 1px 2px rgba(0, 0, 0, 0.3));\n",
              "      fill: #FFFFFF;\n",
              "    }\n",
              "  </style>\n",
              "\n",
              "      <script>\n",
              "        const buttonEl =\n",
              "          document.querySelector('#df-edc0a49f-87b8-4e49-b68c-740295e72a92 button.colab-df-convert');\n",
              "        buttonEl.style.display =\n",
              "          google.colab.kernel.accessAllowed ? 'block' : 'none';\n",
              "\n",
              "        async function convertToInteractive(key) {\n",
              "          const element = document.querySelector('#df-edc0a49f-87b8-4e49-b68c-740295e72a92');\n",
              "          const dataTable =\n",
              "            await google.colab.kernel.invokeFunction('convertToInteractive',\n",
              "                                                     [key], {});\n",
              "          if (!dataTable) return;\n",
              "\n",
              "          const docLinkHtml = 'Like what you see? Visit the ' +\n",
              "            '<a target=\"_blank\" href=https://colab.research.google.com/notebooks/data_table.ipynb>data table notebook</a>'\n",
              "            + ' to learn more about interactive tables.';\n",
              "          element.innerHTML = '';\n",
              "          dataTable['output_type'] = 'display_data';\n",
              "          await google.colab.output.renderOutput(dataTable, element);\n",
              "          const docLink = document.createElement('div');\n",
              "          docLink.innerHTML = docLinkHtml;\n",
              "          element.appendChild(docLink);\n",
              "        }\n",
              "      </script>\n",
              "    </div>\n",
              "  </div>\n",
              "  "
            ]
          },
          "metadata": {},
          "execution_count": 49
        }
      ],
      "source": [
        "pred_df = pd.DataFrame({'actual' : target_test[:10], 'prediction' : preds_text[:10]})\n",
        "pred_df"
      ]
    },
    {
      "cell_type": "code",
      "execution_count": 52,
      "metadata": {
        "id": "jDs9Y6cVQ4Ti"
      },
      "outputs": [],
      "source": [
        "#load the path of the file\n",
        "source_path_test=\"/content/test-source.txt\"\n",
        "target_path_test=\"/content/test-target.txt\""
      ]
    },
    {
      "cell_type": "code",
      "execution_count": 53,
      "metadata": {
        "id": "J7gpIoGoRgEl"
      },
      "outputs": [],
      "source": [
        "source_file_test=data_preprocessing(source_path_test)\n",
        "target_file_test=data_preprocessing(target_path_test)"
      ]
    },
    {
      "cell_type": "code",
      "execution_count": 54,
      "metadata": {
        "id": "bHoEIQV4RniT",
        "colab": {
          "base_uri": "https://localhost:8080/",
          "height": 206
        },
        "outputId": "cd459608-2249-4aea-f272-e67ac282f9a1"
      },
      "outputs": [
        {
          "output_type": "execute_result",
          "data": {
            "text/plain": [
              "                                              Source\n",
              "0   Scéal Chathail Freeman - Téid mo Dhearbhrátha...\n",
              "1   MÍ Iúil a bhí ann i mbliadhain a 1854 , nuair...\n",
              "2   An dearbhráthair a ba sine agam , Seán Freema...\n",
              "3   Tráthnóna breágh amháin , chuaidh sé a dh'ias...\n",
              "4   Bhí sé go maith i n-a shláinte agus nuair a b..."
            ],
            "text/html": [
              "\n",
              "  <div id=\"df-eb7793fb-6c3d-4d38-bf6e-f24fec2eeb06\">\n",
              "    <div class=\"colab-df-container\">\n",
              "      <div>\n",
              "<style scoped>\n",
              "    .dataframe tbody tr th:only-of-type {\n",
              "        vertical-align: middle;\n",
              "    }\n",
              "\n",
              "    .dataframe tbody tr th {\n",
              "        vertical-align: top;\n",
              "    }\n",
              "\n",
              "    .dataframe thead th {\n",
              "        text-align: right;\n",
              "    }\n",
              "</style>\n",
              "<table border=\"1\" class=\"dataframe\">\n",
              "  <thead>\n",
              "    <tr style=\"text-align: right;\">\n",
              "      <th></th>\n",
              "      <th>Source</th>\n",
              "    </tr>\n",
              "  </thead>\n",
              "  <tbody>\n",
              "    <tr>\n",
              "      <th>0</th>\n",
              "      <td>Scéal Chathail Freeman - Téid mo Dhearbhrátha...</td>\n",
              "    </tr>\n",
              "    <tr>\n",
              "      <th>1</th>\n",
              "      <td>MÍ Iúil a bhí ann i mbliadhain a 1854 , nuair...</td>\n",
              "    </tr>\n",
              "    <tr>\n",
              "      <th>2</th>\n",
              "      <td>An dearbhráthair a ba sine agam , Seán Freema...</td>\n",
              "    </tr>\n",
              "    <tr>\n",
              "      <th>3</th>\n",
              "      <td>Tráthnóna breágh amháin , chuaidh sé a dh'ias...</td>\n",
              "    </tr>\n",
              "    <tr>\n",
              "      <th>4</th>\n",
              "      <td>Bhí sé go maith i n-a shláinte agus nuair a b...</td>\n",
              "    </tr>\n",
              "  </tbody>\n",
              "</table>\n",
              "</div>\n",
              "      <button class=\"colab-df-convert\" onclick=\"convertToInteractive('df-eb7793fb-6c3d-4d38-bf6e-f24fec2eeb06')\"\n",
              "              title=\"Convert this dataframe to an interactive table.\"\n",
              "              style=\"display:none;\">\n",
              "        \n",
              "  <svg xmlns=\"http://www.w3.org/2000/svg\" height=\"24px\"viewBox=\"0 0 24 24\"\n",
              "       width=\"24px\">\n",
              "    <path d=\"M0 0h24v24H0V0z\" fill=\"none\"/>\n",
              "    <path d=\"M18.56 5.44l.94 2.06.94-2.06 2.06-.94-2.06-.94-.94-2.06-.94 2.06-2.06.94zm-11 1L8.5 8.5l.94-2.06 2.06-.94-2.06-.94L8.5 2.5l-.94 2.06-2.06.94zm10 10l.94 2.06.94-2.06 2.06-.94-2.06-.94-.94-2.06-.94 2.06-2.06.94z\"/><path d=\"M17.41 7.96l-1.37-1.37c-.4-.4-.92-.59-1.43-.59-.52 0-1.04.2-1.43.59L10.3 9.45l-7.72 7.72c-.78.78-.78 2.05 0 2.83L4 21.41c.39.39.9.59 1.41.59.51 0 1.02-.2 1.41-.59l7.78-7.78 2.81-2.81c.8-.78.8-2.07 0-2.86zM5.41 20L4 18.59l7.72-7.72 1.47 1.35L5.41 20z\"/>\n",
              "  </svg>\n",
              "      </button>\n",
              "      \n",
              "  <style>\n",
              "    .colab-df-container {\n",
              "      display:flex;\n",
              "      flex-wrap:wrap;\n",
              "      gap: 12px;\n",
              "    }\n",
              "\n",
              "    .colab-df-convert {\n",
              "      background-color: #E8F0FE;\n",
              "      border: none;\n",
              "      border-radius: 50%;\n",
              "      cursor: pointer;\n",
              "      display: none;\n",
              "      fill: #1967D2;\n",
              "      height: 32px;\n",
              "      padding: 0 0 0 0;\n",
              "      width: 32px;\n",
              "    }\n",
              "\n",
              "    .colab-df-convert:hover {\n",
              "      background-color: #E2EBFA;\n",
              "      box-shadow: 0px 1px 2px rgba(60, 64, 67, 0.3), 0px 1px 3px 1px rgba(60, 64, 67, 0.15);\n",
              "      fill: #174EA6;\n",
              "    }\n",
              "\n",
              "    [theme=dark] .colab-df-convert {\n",
              "      background-color: #3B4455;\n",
              "      fill: #D2E3FC;\n",
              "    }\n",
              "\n",
              "    [theme=dark] .colab-df-convert:hover {\n",
              "      background-color: #434B5C;\n",
              "      box-shadow: 0px 1px 3px 1px rgba(0, 0, 0, 0.15);\n",
              "      filter: drop-shadow(0px 1px 2px rgba(0, 0, 0, 0.3));\n",
              "      fill: #FFFFFF;\n",
              "    }\n",
              "  </style>\n",
              "\n",
              "      <script>\n",
              "        const buttonEl =\n",
              "          document.querySelector('#df-eb7793fb-6c3d-4d38-bf6e-f24fec2eeb06 button.colab-df-convert');\n",
              "        buttonEl.style.display =\n",
              "          google.colab.kernel.accessAllowed ? 'block' : 'none';\n",
              "\n",
              "        async function convertToInteractive(key) {\n",
              "          const element = document.querySelector('#df-eb7793fb-6c3d-4d38-bf6e-f24fec2eeb06');\n",
              "          const dataTable =\n",
              "            await google.colab.kernel.invokeFunction('convertToInteractive',\n",
              "                                                     [key], {});\n",
              "          if (!dataTable) return;\n",
              "\n",
              "          const docLinkHtml = 'Like what you see? Visit the ' +\n",
              "            '<a target=\"_blank\" href=https://colab.research.google.com/notebooks/data_table.ipynb>data table notebook</a>'\n",
              "            + ' to learn more about interactive tables.';\n",
              "          element.innerHTML = '';\n",
              "          dataTable['output_type'] = 'display_data';\n",
              "          await google.colab.output.renderOutput(dataTable, element);\n",
              "          const docLink = document.createElement('div');\n",
              "          docLink.innerHTML = docLinkHtml;\n",
              "          element.appendChild(docLink);\n",
              "        }\n",
              "      </script>\n",
              "    </div>\n",
              "  </div>\n",
              "  "
            ]
          },
          "metadata": {},
          "execution_count": 54
        }
      ],
      "source": [
        "df3 = pd.DataFrame({'Source': source_file_test})\n",
        "df3.head()"
      ]
    },
    {
      "cell_type": "code",
      "execution_count": 55,
      "metadata": {
        "id": "1t-gTntQRy9p",
        "colab": {
          "base_uri": "https://localhost:8080/",
          "height": 206
        },
        "outputId": "6ecca25a-7c97-457c-cc87-408365a55e5a"
      },
      "outputs": [
        {
          "output_type": "execute_result",
          "data": {
            "text/plain": [
              "                                              Target\n",
              "0   Scéal Chathail Freeman - Téann mo dheartháir ...\n",
              "1   Mí Iúil a bhí ann i mbliain a 1854 , nuair a ...\n",
              "2   An deartháir ba sine agam , Sean Freeman , tu...\n",
              "3   Tráthnóna breá amháin , chuaigh sé a dh'iasca...\n",
              "4   Bhí sé go maith ina shláinte agus nuair a bhí..."
            ],
            "text/html": [
              "\n",
              "  <div id=\"df-5bfaacb3-3273-43fb-be20-6be30a1fc76d\">\n",
              "    <div class=\"colab-df-container\">\n",
              "      <div>\n",
              "<style scoped>\n",
              "    .dataframe tbody tr th:only-of-type {\n",
              "        vertical-align: middle;\n",
              "    }\n",
              "\n",
              "    .dataframe tbody tr th {\n",
              "        vertical-align: top;\n",
              "    }\n",
              "\n",
              "    .dataframe thead th {\n",
              "        text-align: right;\n",
              "    }\n",
              "</style>\n",
              "<table border=\"1\" class=\"dataframe\">\n",
              "  <thead>\n",
              "    <tr style=\"text-align: right;\">\n",
              "      <th></th>\n",
              "      <th>Target</th>\n",
              "    </tr>\n",
              "  </thead>\n",
              "  <tbody>\n",
              "    <tr>\n",
              "      <th>0</th>\n",
              "      <td>Scéal Chathail Freeman - Téann mo dheartháir ...</td>\n",
              "    </tr>\n",
              "    <tr>\n",
              "      <th>1</th>\n",
              "      <td>Mí Iúil a bhí ann i mbliain a 1854 , nuair a ...</td>\n",
              "    </tr>\n",
              "    <tr>\n",
              "      <th>2</th>\n",
              "      <td>An deartháir ba sine agam , Sean Freeman , tu...</td>\n",
              "    </tr>\n",
              "    <tr>\n",
              "      <th>3</th>\n",
              "      <td>Tráthnóna breá amháin , chuaigh sé a dh'iasca...</td>\n",
              "    </tr>\n",
              "    <tr>\n",
              "      <th>4</th>\n",
              "      <td>Bhí sé go maith ina shláinte agus nuair a bhí...</td>\n",
              "    </tr>\n",
              "  </tbody>\n",
              "</table>\n",
              "</div>\n",
              "      <button class=\"colab-df-convert\" onclick=\"convertToInteractive('df-5bfaacb3-3273-43fb-be20-6be30a1fc76d')\"\n",
              "              title=\"Convert this dataframe to an interactive table.\"\n",
              "              style=\"display:none;\">\n",
              "        \n",
              "  <svg xmlns=\"http://www.w3.org/2000/svg\" height=\"24px\"viewBox=\"0 0 24 24\"\n",
              "       width=\"24px\">\n",
              "    <path d=\"M0 0h24v24H0V0z\" fill=\"none\"/>\n",
              "    <path d=\"M18.56 5.44l.94 2.06.94-2.06 2.06-.94-2.06-.94-.94-2.06-.94 2.06-2.06.94zm-11 1L8.5 8.5l.94-2.06 2.06-.94-2.06-.94L8.5 2.5l-.94 2.06-2.06.94zm10 10l.94 2.06.94-2.06 2.06-.94-2.06-.94-.94-2.06-.94 2.06-2.06.94z\"/><path d=\"M17.41 7.96l-1.37-1.37c-.4-.4-.92-.59-1.43-.59-.52 0-1.04.2-1.43.59L10.3 9.45l-7.72 7.72c-.78.78-.78 2.05 0 2.83L4 21.41c.39.39.9.59 1.41.59.51 0 1.02-.2 1.41-.59l7.78-7.78 2.81-2.81c.8-.78.8-2.07 0-2.86zM5.41 20L4 18.59l7.72-7.72 1.47 1.35L5.41 20z\"/>\n",
              "  </svg>\n",
              "      </button>\n",
              "      \n",
              "  <style>\n",
              "    .colab-df-container {\n",
              "      display:flex;\n",
              "      flex-wrap:wrap;\n",
              "      gap: 12px;\n",
              "    }\n",
              "\n",
              "    .colab-df-convert {\n",
              "      background-color: #E8F0FE;\n",
              "      border: none;\n",
              "      border-radius: 50%;\n",
              "      cursor: pointer;\n",
              "      display: none;\n",
              "      fill: #1967D2;\n",
              "      height: 32px;\n",
              "      padding: 0 0 0 0;\n",
              "      width: 32px;\n",
              "    }\n",
              "\n",
              "    .colab-df-convert:hover {\n",
              "      background-color: #E2EBFA;\n",
              "      box-shadow: 0px 1px 2px rgba(60, 64, 67, 0.3), 0px 1px 3px 1px rgba(60, 64, 67, 0.15);\n",
              "      fill: #174EA6;\n",
              "    }\n",
              "\n",
              "    [theme=dark] .colab-df-convert {\n",
              "      background-color: #3B4455;\n",
              "      fill: #D2E3FC;\n",
              "    }\n",
              "\n",
              "    [theme=dark] .colab-df-convert:hover {\n",
              "      background-color: #434B5C;\n",
              "      box-shadow: 0px 1px 3px 1px rgba(0, 0, 0, 0.15);\n",
              "      filter: drop-shadow(0px 1px 2px rgba(0, 0, 0, 0.3));\n",
              "      fill: #FFFFFF;\n",
              "    }\n",
              "  </style>\n",
              "\n",
              "      <script>\n",
              "        const buttonEl =\n",
              "          document.querySelector('#df-5bfaacb3-3273-43fb-be20-6be30a1fc76d button.colab-df-convert');\n",
              "        buttonEl.style.display =\n",
              "          google.colab.kernel.accessAllowed ? 'block' : 'none';\n",
              "\n",
              "        async function convertToInteractive(key) {\n",
              "          const element = document.querySelector('#df-5bfaacb3-3273-43fb-be20-6be30a1fc76d');\n",
              "          const dataTable =\n",
              "            await google.colab.kernel.invokeFunction('convertToInteractive',\n",
              "                                                     [key], {});\n",
              "          if (!dataTable) return;\n",
              "\n",
              "          const docLinkHtml = 'Like what you see? Visit the ' +\n",
              "            '<a target=\"_blank\" href=https://colab.research.google.com/notebooks/data_table.ipynb>data table notebook</a>'\n",
              "            + ' to learn more about interactive tables.';\n",
              "          element.innerHTML = '';\n",
              "          dataTable['output_type'] = 'display_data';\n",
              "          await google.colab.output.renderOutput(dataTable, element);\n",
              "          const docLink = document.createElement('div');\n",
              "          docLink.innerHTML = docLinkHtml;\n",
              "          element.appendChild(docLink);\n",
              "        }\n",
              "      </script>\n",
              "    </div>\n",
              "  </div>\n",
              "  "
            ]
          },
          "metadata": {},
          "execution_count": 55
        }
      ],
      "source": [
        "df4 = pd.DataFrame({'Target': target_file_test})\n",
        "df4.head()"
      ]
    },
    {
      "cell_type": "code",
      "execution_count": 56,
      "metadata": {
        "id": "9LOiEEkbR3Xz",
        "colab": {
          "base_uri": "https://localhost:8080/",
          "height": 424
        },
        "outputId": "3df04daf-e849-488a-f723-789a81d05919"
      },
      "outputs": [
        {
          "output_type": "execute_result",
          "data": {
            "text/plain": [
              "                                                 Source  \\\n",
              "0      Scéal Chathail Freeman - Téid mo Dhearbhrátha...   \n",
              "1      MÍ Iúil a bhí ann i mbliadhain a 1854 , nuair...   \n",
              "2      An dearbhráthair a ba sine agam , Seán Freema...   \n",
              "3      Tráthnóna breágh amháin , chuaidh sé a dh'ias...   \n",
              "4      Bhí sé go maith i n-a shláinte agus nuair a b...   \n",
              "...                                                 ...   \n",
              "996    Chonnaic muid fosta caidé mar chuaidh an dul ...   \n",
              "997    Fuair muid comharthaí go leór go rabh na dear...   \n",
              "998    Chuartuigh muid an uaimh mhór arís agus arís ...   \n",
              "999    Bhíomar ag cuartughadh agus ag breath - nugha...   \n",
              "1000                                                      \n",
              "\n",
              "                                                 Target  \n",
              "0      Scéal Chathail Freeman - Téann mo dheartháir ...  \n",
              "1      Mí Iúil a bhí ann i mbliain a 1854 , nuair a ...  \n",
              "2      An deartháir ba sine agam , Sean Freeman , tu...  \n",
              "3      Tráthnóna breá amháin , chuaigh sé a dh'iasca...  \n",
              "4      Bhí sé go maith ina shláinte agus nuair a bhí...  \n",
              "...                                                 ...  \n",
              "996    Chonaic muid fosta cad é mar a chuaigh an dol...  \n",
              "997    Fuair muid comharthaí go leor go raibh na dea...  \n",
              "998    Chuartaigh muid an uaimh mhór arís agus arís ...  \n",
              "999    Bhí muid ag cuartú agus ag breathnú ní ba ghr...  \n",
              "1000                                                     \n",
              "\n",
              "[1001 rows x 2 columns]"
            ],
            "text/html": [
              "\n",
              "  <div id=\"df-be6205c0-5bef-47f0-9a7d-b0aa3bf5a5e4\">\n",
              "    <div class=\"colab-df-container\">\n",
              "      <div>\n",
              "<style scoped>\n",
              "    .dataframe tbody tr th:only-of-type {\n",
              "        vertical-align: middle;\n",
              "    }\n",
              "\n",
              "    .dataframe tbody tr th {\n",
              "        vertical-align: top;\n",
              "    }\n",
              "\n",
              "    .dataframe thead th {\n",
              "        text-align: right;\n",
              "    }\n",
              "</style>\n",
              "<table border=\"1\" class=\"dataframe\">\n",
              "  <thead>\n",
              "    <tr style=\"text-align: right;\">\n",
              "      <th></th>\n",
              "      <th>Source</th>\n",
              "      <th>Target</th>\n",
              "    </tr>\n",
              "  </thead>\n",
              "  <tbody>\n",
              "    <tr>\n",
              "      <th>0</th>\n",
              "      <td>Scéal Chathail Freeman - Téid mo Dhearbhrátha...</td>\n",
              "      <td>Scéal Chathail Freeman - Téann mo dheartháir ...</td>\n",
              "    </tr>\n",
              "    <tr>\n",
              "      <th>1</th>\n",
              "      <td>MÍ Iúil a bhí ann i mbliadhain a 1854 , nuair...</td>\n",
              "      <td>Mí Iúil a bhí ann i mbliain a 1854 , nuair a ...</td>\n",
              "    </tr>\n",
              "    <tr>\n",
              "      <th>2</th>\n",
              "      <td>An dearbhráthair a ba sine agam , Seán Freema...</td>\n",
              "      <td>An deartháir ba sine agam , Sean Freeman , tu...</td>\n",
              "    </tr>\n",
              "    <tr>\n",
              "      <th>3</th>\n",
              "      <td>Tráthnóna breágh amháin , chuaidh sé a dh'ias...</td>\n",
              "      <td>Tráthnóna breá amháin , chuaigh sé a dh'iasca...</td>\n",
              "    </tr>\n",
              "    <tr>\n",
              "      <th>4</th>\n",
              "      <td>Bhí sé go maith i n-a shláinte agus nuair a b...</td>\n",
              "      <td>Bhí sé go maith ina shláinte agus nuair a bhí...</td>\n",
              "    </tr>\n",
              "    <tr>\n",
              "      <th>...</th>\n",
              "      <td>...</td>\n",
              "      <td>...</td>\n",
              "    </tr>\n",
              "    <tr>\n",
              "      <th>996</th>\n",
              "      <td>Chonnaic muid fosta caidé mar chuaidh an dul ...</td>\n",
              "      <td>Chonaic muid fosta cad é mar a chuaigh an dol...</td>\n",
              "    </tr>\n",
              "    <tr>\n",
              "      <th>997</th>\n",
              "      <td>Fuair muid comharthaí go leór go rabh na dear...</td>\n",
              "      <td>Fuair muid comharthaí go leor go raibh na dea...</td>\n",
              "    </tr>\n",
              "    <tr>\n",
              "      <th>998</th>\n",
              "      <td>Chuartuigh muid an uaimh mhór arís agus arís ...</td>\n",
              "      <td>Chuartaigh muid an uaimh mhór arís agus arís ...</td>\n",
              "    </tr>\n",
              "    <tr>\n",
              "      <th>999</th>\n",
              "      <td>Bhíomar ag cuartughadh agus ag breath - nugha...</td>\n",
              "      <td>Bhí muid ag cuartú agus ag breathnú ní ba ghr...</td>\n",
              "    </tr>\n",
              "    <tr>\n",
              "      <th>1000</th>\n",
              "      <td></td>\n",
              "      <td></td>\n",
              "    </tr>\n",
              "  </tbody>\n",
              "</table>\n",
              "<p>1001 rows × 2 columns</p>\n",
              "</div>\n",
              "      <button class=\"colab-df-convert\" onclick=\"convertToInteractive('df-be6205c0-5bef-47f0-9a7d-b0aa3bf5a5e4')\"\n",
              "              title=\"Convert this dataframe to an interactive table.\"\n",
              "              style=\"display:none;\">\n",
              "        \n",
              "  <svg xmlns=\"http://www.w3.org/2000/svg\" height=\"24px\"viewBox=\"0 0 24 24\"\n",
              "       width=\"24px\">\n",
              "    <path d=\"M0 0h24v24H0V0z\" fill=\"none\"/>\n",
              "    <path d=\"M18.56 5.44l.94 2.06.94-2.06 2.06-.94-2.06-.94-.94-2.06-.94 2.06-2.06.94zm-11 1L8.5 8.5l.94-2.06 2.06-.94-2.06-.94L8.5 2.5l-.94 2.06-2.06.94zm10 10l.94 2.06.94-2.06 2.06-.94-2.06-.94-.94-2.06-.94 2.06-2.06.94z\"/><path d=\"M17.41 7.96l-1.37-1.37c-.4-.4-.92-.59-1.43-.59-.52 0-1.04.2-1.43.59L10.3 9.45l-7.72 7.72c-.78.78-.78 2.05 0 2.83L4 21.41c.39.39.9.59 1.41.59.51 0 1.02-.2 1.41-.59l7.78-7.78 2.81-2.81c.8-.78.8-2.07 0-2.86zM5.41 20L4 18.59l7.72-7.72 1.47 1.35L5.41 20z\"/>\n",
              "  </svg>\n",
              "      </button>\n",
              "      \n",
              "  <style>\n",
              "    .colab-df-container {\n",
              "      display:flex;\n",
              "      flex-wrap:wrap;\n",
              "      gap: 12px;\n",
              "    }\n",
              "\n",
              "    .colab-df-convert {\n",
              "      background-color: #E8F0FE;\n",
              "      border: none;\n",
              "      border-radius: 50%;\n",
              "      cursor: pointer;\n",
              "      display: none;\n",
              "      fill: #1967D2;\n",
              "      height: 32px;\n",
              "      padding: 0 0 0 0;\n",
              "      width: 32px;\n",
              "    }\n",
              "\n",
              "    .colab-df-convert:hover {\n",
              "      background-color: #E2EBFA;\n",
              "      box-shadow: 0px 1px 2px rgba(60, 64, 67, 0.3), 0px 1px 3px 1px rgba(60, 64, 67, 0.15);\n",
              "      fill: #174EA6;\n",
              "    }\n",
              "\n",
              "    [theme=dark] .colab-df-convert {\n",
              "      background-color: #3B4455;\n",
              "      fill: #D2E3FC;\n",
              "    }\n",
              "\n",
              "    [theme=dark] .colab-df-convert:hover {\n",
              "      background-color: #434B5C;\n",
              "      box-shadow: 0px 1px 3px 1px rgba(0, 0, 0, 0.15);\n",
              "      filter: drop-shadow(0px 1px 2px rgba(0, 0, 0, 0.3));\n",
              "      fill: #FFFFFF;\n",
              "    }\n",
              "  </style>\n",
              "\n",
              "      <script>\n",
              "        const buttonEl =\n",
              "          document.querySelector('#df-be6205c0-5bef-47f0-9a7d-b0aa3bf5a5e4 button.colab-df-convert');\n",
              "        buttonEl.style.display =\n",
              "          google.colab.kernel.accessAllowed ? 'block' : 'none';\n",
              "\n",
              "        async function convertToInteractive(key) {\n",
              "          const element = document.querySelector('#df-be6205c0-5bef-47f0-9a7d-b0aa3bf5a5e4');\n",
              "          const dataTable =\n",
              "            await google.colab.kernel.invokeFunction('convertToInteractive',\n",
              "                                                     [key], {});\n",
              "          if (!dataTable) return;\n",
              "\n",
              "          const docLinkHtml = 'Like what you see? Visit the ' +\n",
              "            '<a target=\"_blank\" href=https://colab.research.google.com/notebooks/data_table.ipynb>data table notebook</a>'\n",
              "            + ' to learn more about interactive tables.';\n",
              "          element.innerHTML = '';\n",
              "          dataTable['output_type'] = 'display_data';\n",
              "          await google.colab.output.renderOutput(dataTable, element);\n",
              "          const docLink = document.createElement('div');\n",
              "          docLink.innerHTML = docLinkHtml;\n",
              "          element.appendChild(docLink);\n",
              "        }\n",
              "      </script>\n",
              "    </div>\n",
              "  </div>\n",
              "  "
            ]
          },
          "metadata": {},
          "execution_count": 56
        }
      ],
      "source": [
        "df_merged1= pd.concat([df3, df4], axis=1)\n",
        "df_merged1"
      ]
    },
    {
      "cell_type": "code",
      "execution_count": 57,
      "metadata": {
        "id": "jO9dXiCXR82b",
        "colab": {
          "base_uri": "https://localhost:8080/",
          "height": 206
        },
        "outputId": "498cdf15-8c32-4520-ddfa-e4ffd12b5c77"
      },
      "outputs": [
        {
          "output_type": "execute_result",
          "data": {
            "text/plain": [
              "                                              Source  \\\n",
              "0   scéal chathail freeman  téid mo dhearbhráthai...   \n",
              "1   mí iúil a bhí ann i mbliadhain a 1854  nuair ...   \n",
              "2   an dearbhráthair a ba sine agam  seán freeman...   \n",
              "3   tráthnóna breágh amháin  chuaidh sé a dhiasca...   \n",
              "4   bhí sé go maith i na shláinte agus nuair a bh...   \n",
              "\n",
              "                                              Target  \n",
              "0   scéal chathail freeman  téann mo dheartháir c...  \n",
              "1   mí iúil a bhí ann i mbliain a 1854  nuair a b...  \n",
              "2   an deartháir ba sine agam  sean freeman  tuga...  \n",
              "3   tráthnóna breá amháin  chuaigh sé a dhiascair...  \n",
              "4   bhí sé go maith ina shláinte agus nuair a bhí...  "
            ],
            "text/html": [
              "\n",
              "  <div id=\"df-864d8f10-7262-4552-aba6-4d01ccddd2e8\">\n",
              "    <div class=\"colab-df-container\">\n",
              "      <div>\n",
              "<style scoped>\n",
              "    .dataframe tbody tr th:only-of-type {\n",
              "        vertical-align: middle;\n",
              "    }\n",
              "\n",
              "    .dataframe tbody tr th {\n",
              "        vertical-align: top;\n",
              "    }\n",
              "\n",
              "    .dataframe thead th {\n",
              "        text-align: right;\n",
              "    }\n",
              "</style>\n",
              "<table border=\"1\" class=\"dataframe\">\n",
              "  <thead>\n",
              "    <tr style=\"text-align: right;\">\n",
              "      <th></th>\n",
              "      <th>Source</th>\n",
              "      <th>Target</th>\n",
              "    </tr>\n",
              "  </thead>\n",
              "  <tbody>\n",
              "    <tr>\n",
              "      <th>0</th>\n",
              "      <td>scéal chathail freeman  téid mo dhearbhráthai...</td>\n",
              "      <td>scéal chathail freeman  téann mo dheartháir c...</td>\n",
              "    </tr>\n",
              "    <tr>\n",
              "      <th>1</th>\n",
              "      <td>mí iúil a bhí ann i mbliadhain a 1854  nuair ...</td>\n",
              "      <td>mí iúil a bhí ann i mbliain a 1854  nuair a b...</td>\n",
              "    </tr>\n",
              "    <tr>\n",
              "      <th>2</th>\n",
              "      <td>an dearbhráthair a ba sine agam  seán freeman...</td>\n",
              "      <td>an deartháir ba sine agam  sean freeman  tuga...</td>\n",
              "    </tr>\n",
              "    <tr>\n",
              "      <th>3</th>\n",
              "      <td>tráthnóna breágh amháin  chuaidh sé a dhiasca...</td>\n",
              "      <td>tráthnóna breá amháin  chuaigh sé a dhiascair...</td>\n",
              "    </tr>\n",
              "    <tr>\n",
              "      <th>4</th>\n",
              "      <td>bhí sé go maith i na shláinte agus nuair a bh...</td>\n",
              "      <td>bhí sé go maith ina shláinte agus nuair a bhí...</td>\n",
              "    </tr>\n",
              "  </tbody>\n",
              "</table>\n",
              "</div>\n",
              "      <button class=\"colab-df-convert\" onclick=\"convertToInteractive('df-864d8f10-7262-4552-aba6-4d01ccddd2e8')\"\n",
              "              title=\"Convert this dataframe to an interactive table.\"\n",
              "              style=\"display:none;\">\n",
              "        \n",
              "  <svg xmlns=\"http://www.w3.org/2000/svg\" height=\"24px\"viewBox=\"0 0 24 24\"\n",
              "       width=\"24px\">\n",
              "    <path d=\"M0 0h24v24H0V0z\" fill=\"none\"/>\n",
              "    <path d=\"M18.56 5.44l.94 2.06.94-2.06 2.06-.94-2.06-.94-.94-2.06-.94 2.06-2.06.94zm-11 1L8.5 8.5l.94-2.06 2.06-.94-2.06-.94L8.5 2.5l-.94 2.06-2.06.94zm10 10l.94 2.06.94-2.06 2.06-.94-2.06-.94-.94-2.06-.94 2.06-2.06.94z\"/><path d=\"M17.41 7.96l-1.37-1.37c-.4-.4-.92-.59-1.43-.59-.52 0-1.04.2-1.43.59L10.3 9.45l-7.72 7.72c-.78.78-.78 2.05 0 2.83L4 21.41c.39.39.9.59 1.41.59.51 0 1.02-.2 1.41-.59l7.78-7.78 2.81-2.81c.8-.78.8-2.07 0-2.86zM5.41 20L4 18.59l7.72-7.72 1.47 1.35L5.41 20z\"/>\n",
              "  </svg>\n",
              "      </button>\n",
              "      \n",
              "  <style>\n",
              "    .colab-df-container {\n",
              "      display:flex;\n",
              "      flex-wrap:wrap;\n",
              "      gap: 12px;\n",
              "    }\n",
              "\n",
              "    .colab-df-convert {\n",
              "      background-color: #E8F0FE;\n",
              "      border: none;\n",
              "      border-radius: 50%;\n",
              "      cursor: pointer;\n",
              "      display: none;\n",
              "      fill: #1967D2;\n",
              "      height: 32px;\n",
              "      padding: 0 0 0 0;\n",
              "      width: 32px;\n",
              "    }\n",
              "\n",
              "    .colab-df-convert:hover {\n",
              "      background-color: #E2EBFA;\n",
              "      box-shadow: 0px 1px 2px rgba(60, 64, 67, 0.3), 0px 1px 3px 1px rgba(60, 64, 67, 0.15);\n",
              "      fill: #174EA6;\n",
              "    }\n",
              "\n",
              "    [theme=dark] .colab-df-convert {\n",
              "      background-color: #3B4455;\n",
              "      fill: #D2E3FC;\n",
              "    }\n",
              "\n",
              "    [theme=dark] .colab-df-convert:hover {\n",
              "      background-color: #434B5C;\n",
              "      box-shadow: 0px 1px 3px 1px rgba(0, 0, 0, 0.15);\n",
              "      filter: drop-shadow(0px 1px 2px rgba(0, 0, 0, 0.3));\n",
              "      fill: #FFFFFF;\n",
              "    }\n",
              "  </style>\n",
              "\n",
              "      <script>\n",
              "        const buttonEl =\n",
              "          document.querySelector('#df-864d8f10-7262-4552-aba6-4d01ccddd2e8 button.colab-df-convert');\n",
              "        buttonEl.style.display =\n",
              "          google.colab.kernel.accessAllowed ? 'block' : 'none';\n",
              "\n",
              "        async function convertToInteractive(key) {\n",
              "          const element = document.querySelector('#df-864d8f10-7262-4552-aba6-4d01ccddd2e8');\n",
              "          const dataTable =\n",
              "            await google.colab.kernel.invokeFunction('convertToInteractive',\n",
              "                                                     [key], {});\n",
              "          if (!dataTable) return;\n",
              "\n",
              "          const docLinkHtml = 'Like what you see? Visit the ' +\n",
              "            '<a target=\"_blank\" href=https://colab.research.google.com/notebooks/data_table.ipynb>data table notebook</a>'\n",
              "            + ' to learn more about interactive tables.';\n",
              "          element.innerHTML = '';\n",
              "          dataTable['output_type'] = 'display_data';\n",
              "          await google.colab.output.renderOutput(dataTable, element);\n",
              "          const docLink = document.createElement('div');\n",
              "          docLink.innerHTML = docLinkHtml;\n",
              "          element.appendChild(docLink);\n",
              "        }\n",
              "      </script>\n",
              "    </div>\n",
              "  </div>\n",
              "  "
            ]
          },
          "metadata": {},
          "execution_count": 57
        }
      ],
      "source": [
        "cleaning(df_merged1).head()"
      ]
    },
    {
      "cell_type": "code",
      "execution_count": 58,
      "metadata": {
        "id": "Rk6CsZs-SxfT",
        "colab": {
          "base_uri": "https://localhost:8080/"
        },
        "outputId": "1a91cbd7-ccca-47cb-fa93-38afcbac2c7c"
      },
      "outputs": [
        {
          "output_type": "execute_result",
          "data": {
            "text/plain": [
              "3188"
            ]
          },
          "metadata": {},
          "execution_count": 58
        }
      ],
      "source": [
        "source_tokenizer_test = tokenization(df_merged1.Source)\n",
        "source_vocab_size_test = len(source_tokenizer_test.word_index) + 1\n",
        "source_vocab_size_test"
      ]
    },
    {
      "cell_type": "code",
      "execution_count": 59,
      "metadata": {
        "id": "UetQM_ODTV6-"
      },
      "outputs": [],
      "source": [
        "source_max_length_test=30"
      ]
    },
    {
      "cell_type": "code",
      "execution_count": 101,
      "metadata": {
        "id": "uUgAO3wiTeWR",
        "colab": {
          "base_uri": "https://localhost:8080/"
        },
        "outputId": "dbaa3aa8-2dfc-4072-c3b4-197f78e9b2d9"
      },
      "outputs": [
        {
          "output_type": "stream",
          "name": "stdout",
          "text": [
            "Target Vocabulary Size: 2988\n"
          ]
        }
      ],
      "source": [
        "target_tokenizer_test= tokenization(df_merged1.Target)\n",
        "target_vocab_size_test = len(target_tokenizer_test.word_index) + 1\n",
        "target_max_length_test = 30\n",
        "print('Target Vocabulary Size: %d' % target_vocab_size_test)"
      ]
    },
    {
      "cell_type": "code",
      "execution_count": 61,
      "metadata": {
        "id": "Hv_y-9MjTsL7"
      },
      "outputs": [],
      "source": [
        "source_test1 = encode_sequences(source_tokenizer_test, source_max_length_test, df_merged1.Source)\n",
        "target_test1 = encode_sequences(target_tokenizer_test, target_max_length_test, df_merged1.Target)"
      ]
    },
    {
      "cell_type": "code",
      "execution_count": 62,
      "metadata": {
        "id": "TrL6Y-JqT8vG",
        "colab": {
          "base_uri": "https://localhost:8080/"
        },
        "outputId": "d1337fcc-f61d-4359-abf4-19f190484443"
      },
      "outputs": [
        {
          "output_type": "stream",
          "name": "stdout",
          "text": [
            "32/32 [==============================] - 7s 205ms/step\n"
          ]
        }
      ],
      "source": [
        "predict_test=model.predict(target_test1.reshape((target_test1.shape[0],target_test1.shape[1])))\n",
        "classes_test=np.argmax(predict_test,axis=1)"
      ]
    },
    {
      "cell_type": "code",
      "execution_count": 63,
      "metadata": {
        "id": "GIh2wMP4UwXm"
      },
      "outputs": [],
      "source": [
        "preds_test=np.argmax(predict_test,axis=1)"
      ]
    },
    {
      "cell_type": "code",
      "execution_count": 88,
      "metadata": {
        "id": "nsPJD3v7U4SC"
      },
      "outputs": [],
      "source": [
        "preds_text_test = []\n",
        "for i in preds_test[:10]:\n",
        "       temp1 = []\n",
        "       for j in range(len(i)):\n",
        "            t = get_word(i[j], target_tokenizer_test)\n",
        "            if j > 0:\n",
        "                if (t == get_word(i[j-1], target_tokenizer_test)) or (t == None):\n",
        "                     temp1.append('')\n",
        "                else:\n",
        "                     temp1.append(t)\n",
        "            else:\n",
        "                   if(t == None):\n",
        "                          temp1.append('')\n",
        "                   else:\n",
        "                          temp1.append(t) \n",
        "\n",
        "       preds_text_test.append(' '.join(temp1))"
      ]
    },
    {
      "cell_type": "code",
      "source": [
        "target_test1.reshape((target_test1.shape[0],target_test1.shape[1])).shape"
      ],
      "metadata": {
        "colab": {
          "base_uri": "https://localhost:8080/"
        },
        "id": "QHvwO5GCcB5L",
        "outputId": "be93e503-a646-420f-e9ed-a197d35a5118"
      },
      "execution_count": 89,
      "outputs": [
        {
          "output_type": "execute_result",
          "data": {
            "text/plain": [
              "(1001, 25)"
            ]
          },
          "metadata": {},
          "execution_count": 89
        }
      ]
    },
    {
      "cell_type": "code",
      "source": [
        "preds_new=np.array(preds_text_test)"
      ],
      "metadata": {
        "id": "H3e_SRnCcKsf"
      },
      "execution_count": 90,
      "outputs": []
    },
    {
      "cell_type": "code",
      "execution_count": 98,
      "metadata": {
        "id": "3XEQCkE8Vonc",
        "colab": {
          "base_uri": "https://localhost:8080/"
        },
        "outputId": "4fb30d35-415f-4b5d-e0b4-4489c9f6c6b3"
      },
      "outputs": [
        {
          "output_type": "stream",
          "name": "stdout",
          "text": [
            "0.7410603763959202\n"
          ]
        }
      ],
      "source": [
        "import nltk\n",
        "\n",
        "hypothesis = list(df_merged1.Source)\n",
        "reference = list(df_merged1.Target)\n",
        "BLEUscore = nltk.translate.bleu_score.sentence_bleu([reference], hypothesis, weights = [0.1])\n",
        "print(BLEUscore)"
      ]
    }
  ],
  "metadata": {
    "colab": {
      "provenance": []
    },
    "kernelspec": {
      "display_name": "Python 3",
      "name": "python3"
    },
    "language_info": {
      "name": "python"
    }
  },
  "nbformat": 4,
  "nbformat_minor": 0
}